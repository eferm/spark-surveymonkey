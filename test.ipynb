{
 "cells": [
  {
   "cell_type": "code",
   "execution_count": 1,
   "metadata": {},
   "outputs": [],
   "source": [
    "%load_ext autoreload\n",
    "%autoreload 2"
   ]
  },
  {
   "cell_type": "code",
   "execution_count": 2,
   "metadata": {},
   "outputs": [
    {
     "data": {
      "text/html": [
       "<style>pre { white-space: pre !important; }</style>"
      ],
      "text/plain": [
       "<IPython.core.display.HTML object>"
      ]
     },
     "metadata": {},
     "output_type": "display_data"
    }
   ],
   "source": [
    "import json\n",
    "from pathlib import Path\n",
    "from pprint import pprint\n",
    "\n",
    "import requests\n",
    "from IPython.core.display import HTML\n",
    "from pyspark.sql import SparkSession\n",
    "\n",
    "from spark_surveymonkey import transform_surveymonkey\n",
    "\n",
    "display(HTML(\"<style>pre { white-space: pre !important; }</style>\"))\n",
    "spark = SparkSession.builder.appName('spark-surveymonkey').getOrCreate()"
   ]
  },
  {
   "cell_type": "code",
   "execution_count": 3,
   "metadata": {},
   "outputs": [],
   "source": [
    "with open('credentials.json') as f:\n",
    "    credentials = json.load(f)\n",
    "\n",
    "TOKEN = credentials['token']\n",
    "\n",
    "\n",
    "def download_survey(survey_id, endpoint, directory):\n",
    "    host = 'https://api.surveymonkey.net/v3'\n",
    "    url = f'{host}/surveys/{survey_id}/{endpoint}'\n",
    "    headers = {\n",
    "        'Authorization': f'Bearer {TOKEN}',\n",
    "        'Content-Type': 'application/json',\n",
    "    }\n",
    "    response = requests.get(url, headers=headers).json()\n",
    "    Path(directory).mkdir(parents=True, exist_ok=True)\n",
    "    # TODO download multiple pages\n",
    "    with open(f'{directory}/{endpoint.replace(\"/\", \"_\")}.json', 'w') as f:\n",
    "        json.dump(response, f)\n"
   ]
  },
  {
   "cell_type": "code",
   "execution_count": 4,
   "metadata": {},
   "outputs": [],
   "source": [
    "survey_id = 283257051\n",
    "dir_ = Path('data', str(survey_id))\n",
    "\n",
    "download_survey(survey_id, 'responses/bulk/?per_page=100', Path(dir_, 'responses'))\n",
    "download_survey(survey_id, 'details', dir_)\n",
    "\n",
    "with open(Path(dir_, 'details.json')) as f:\n",
    "    details = json.load(f)\n",
    "\n",
    "df = transform_surveymonkey(spark, Path(dir_, 'responses'), details)"
   ]
  },
  {
   "cell_type": "code",
   "execution_count": null,
   "metadata": {},
   "outputs": [],
   "source": [
    "pprint(df.columns)"
   ]
  },
  {
   "cell_type": "code",
   "execution_count": null,
   "metadata": {},
   "outputs": [],
   "source": [
    "df.show()"
   ]
  },
  {
   "cell_type": "code",
   "execution_count": null,
   "metadata": {},
   "outputs": [],
   "source": []
  }
 ],
 "metadata": {
  "kernelspec": {
   "display_name": "Python 3",
   "language": "python",
   "name": "python3"
  },
  "language_info": {
   "codemirror_mode": {
    "name": "ipython",
    "version": 3
   },
   "file_extension": ".py",
   "mimetype": "text/x-python",
   "name": "python",
   "nbconvert_exporter": "python",
   "pygments_lexer": "ipython3",
   "version": "3.6.10"
  }
 },
 "nbformat": 4,
 "nbformat_minor": 4
}
