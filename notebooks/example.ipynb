{
 "cells": [
  {
   "cell_type": "code",
   "execution_count": 1,
   "metadata": {},
   "outputs": [
    {
     "data": {
      "text/html": [
       "<style>pre { white-space: pre !important; }</style>"
      ],
      "text/plain": [
       "<IPython.core.display.HTML object>"
      ]
     },
     "metadata": {},
     "output_type": "display_data"
    }
   ],
   "source": [
    "from pprint import pprint\n",
    "from pyspark.sql import SparkSession\n",
    "from IPython.display import HTML\n",
    "\n",
    "display(HTML(\"<style>pre { white-space: pre !important; }</style>\"))"
   ]
  },
  {
   "cell_type": "markdown",
   "metadata": {},
   "source": [
    "## Test Survey"
   ]
  },
  {
   "cell_type": "code",
   "execution_count": 2,
   "metadata": {},
   "outputs": [
    {
     "data": {
      "text/html": [
       "<table><tr><td><img src='data/284955270/test-survey-1.jpg'></td><td><img src='data/284955270/test-survey-2.jpg'></td></tr></table>"
      ],
      "text/plain": [
       "<IPython.core.display.HTML object>"
      ]
     },
     "metadata": {},
     "output_type": "display_data"
    }
   ],
   "source": [
    "SURVEY_ID = 284955270\n",
    "\n",
    "display(HTML(\n",
    "    \"<table><tr>\"\n",
    "    f\"<td><img src='data/{SURVEY_ID}/test-survey-1.jpg'></td>\"\n",
    "    f\"<td><img src='data/{SURVEY_ID}/test-survey-2.jpg'></td>\"\n",
    "    \"</tr></table>\"\n",
    "))"
   ]
  },
  {
   "cell_type": "markdown",
   "metadata": {},
   "source": [
    "## Response JSON"
   ]
  },
  {
   "cell_type": "code",
   "execution_count": 3,
   "metadata": {
    "scrolled": false
   },
   "outputs": [
    {
     "name": "stdout",
     "output_type": "stream",
     "text": [
      "\u001b[01;34mdata/284955270/responses\u001b[00m\n",
      "├── api.surveymonkey.net_v3_surveys_284955270_responses_bulk_?page=1&per_page=1.json\n",
      "├── api.surveymonkey.net_v3_surveys_284955270_responses_bulk_?page=2&per_page=1.json\n",
      "└── api.surveymonkey.net_v3_surveys_284955270_responses_bulk_?page=3&per_page=1.json\n",
      "\n",
      "0 directories, 3 files\n",
      "\u001b[1;39m{\n",
      "  \u001b[0m\u001b[34;1m\"data\"\u001b[0m\u001b[1;39m: \u001b[0m\u001b[1;39m[\n",
      "    \u001b[1;39m{\n",
      "      \u001b[0m\u001b[34;1m\"id\"\u001b[0m\u001b[1;39m: \u001b[0m\u001b[0;32m\"11670854001\"\u001b[0m\u001b[1;39m,\n",
      "      \u001b[0m\u001b[34;1m\"recipient_id\"\u001b[0m\u001b[1;39m: \u001b[0m\u001b[0;32m\"\"\u001b[0m\u001b[1;39m,\n",
      "      \u001b[0m\u001b[34;1m\"collection_mode\"\u001b[0m\u001b[1;39m: \u001b[0m\u001b[0;32m\"default\"\u001b[0m\u001b[1;39m,\n",
      "      \u001b[0m\u001b[34;1m\"response_status\"\u001b[0m\u001b[1;39m: \u001b[0m\u001b[0;32m\"completed\"\u001b[0m\u001b[1;39m,\n",
      "      \u001b[0m\u001b[34;1m\"custom_value\"\u001b[0m\u001b[1;39m: \u001b[0m\u001b[0;32m\"\"\u001b[0m\u001b[1;39m,\n",
      "      \u001b[0m\u001b[34;1m\"first_name\"\u001b[0m\u001b[1;39m: \u001b[0m\u001b[0;32m\"\"\u001b[0m\u001b[1;39m,\n",
      "      \u001b[0m\u001b[34;1m\"last_name\"\u001b[0m\u001b[1;39m: \u001b[0m\u001b[0;32m\"\"\u001b[0m\u001b[1;39m,\n",
      "      \u001b[0m\u001b[34;1m\"email_address\"\u001b[0m\u001b[1;39m: \u001b[0m\u001b[0;32m\"\"\u001b[0m\u001b[1;39m,\n",
      "      \u001b[0m\u001b[34;1m\"ip_address\"\u001b[0m\u001b[1;39m: \u001b[0m\u001b[0;32m\"104.177.38.142\"\u001b[0m\u001b[1;39m,\n",
      "      \u001b[0m\u001b[34;1m\"logic_path\"\u001b[0m\u001b[1;39m: \u001b[0m\u001b[1;39m{}\u001b[0m\u001b[1;39m,\n",
      "      \u001b[0m\u001b[34;1m\"metadata\"\u001b[0m\u001b[1;39m: \u001b[0m\u001b[1;39m{\n",
      "        \u001b[0m\u001b[34;1m\"contact\"\u001b[0m\u001b[1;39m: \u001b[0m\u001b[1;39m{}\u001b[0m\u001b[1;39m\n",
      "      \u001b[1;39m}\u001b[0m\u001b[1;39m,\n",
      "      \u001b[0m\u001b[34;1m\"page_path\"\u001b[0m\u001b[1;39m: \u001b[0m\u001b[1;39m[]\u001b[0m\u001b[1;39m,\n",
      "      \u001b[0m\u001b[34;1m\"collector_id\"\u001b[0m\u001b[1;39m: \u001b[0m\u001b[0;32m\"260965847\"\u001b[0m\u001b[1;39m,\n",
      "      \u001b[0m\u001b[34;1m\"survey_id\"\u001b[0m\u001b[1;39m: \u001b[0m\u001b[0;32m\"284955270\"\u001b[0m\u001b[1;39m,\n",
      "      \u001b[0m\u001b[34;1m\"custom_variables\"\u001b[0m\u001b[1;39m: \u001b[0m\u001b[1;39m{}\u001b[0m\u001b[1;39m,\n",
      "      \u001b[0m\u001b[34;1m\"edit_url\"\u001b[0m\u001b[1;39m: \u001b[0m\u001b[0;32m\"https://www.surveymonkey.com/r/?sm=u3wX7UI5jEWT_2Fhlbv8G0TrJWJ_2BP_2BG1duQor_2B1bUvY6gnTvDAO0jxLOExj2Vl_2FxvE\"\u001b[0m\u001b[1;39m,\n",
      "      \u001b[0m\u001b[34;1m\"analyze_url\"\u001b[0m\u001b[1;39m: \u001b[0m\u001b[0;32m\"https://www.surveymonkey.com/analyze/browse/Lon9JmlFro97hEFffzmzDifiLDhBDIB6zhriupLMYpw_3D?respondent_id=11670854001\"\u001b[0m\u001b[1;39m,\n",
      "      \u001b[0m\u001b[34;1m\"total_time\"\u001b[0m\u001b[1;39m: \u001b[0m\u001b[0;39m223\u001b[0m\u001b[1;39m,\n",
      "      \u001b[0m\u001b[34;1m\"date_modified\"\u001b[0m\u001b[1;39m: \u001b[0m\u001b[0;32m\"2020-06-05T19:30:07+00:00\"\u001b[0m\u001b[1;39m,\n",
      "      \u001b[0m\u001b[34;1m\"date_created\"\u001b[0m\u001b[1;39m: \u001b[0m\u001b[0;32m\"2020-06-05T19:26:24+00:00\"\u001b[0m\u001b[1;39m,\n",
      "      \u001b[0m\u001b[34;1m\"href\"\u001b[0m\u001b[1;39m: \u001b[0m\u001b[0;32m\"https://api.surveymonkey.net/v3/surveys/284955270/responses/11670854001\"\u001b[0m\u001b[1;39m,\n",
      "      \u001b[0m\u001b[34;1m\"pages\"\u001b[0m\u001b[1;39m: \u001b[0m\u001b[1;39m[\n",
      "        \u001b[1;39m{\n",
      "          \u001b[0m\u001b[34;1m\"id\"\u001b[0m\u001b[1;39m: \u001b[0m\u001b[0;32m\"125594488\"\u001b[0m\u001b[1;39m,\n",
      "          \u001b[0m\u001b[34;1m\"questions\"\u001b[0m\u001b[1;39m: \u001b[0m\u001b[1;39m[\n",
      "            \u001b[1;39m{\n",
      "              \u001b[0m\u001b[34;1m\"id\"\u001b[0m\u001b[1;39m: \u001b[0m\u001b[0;32m\"476164751\"\u001b[0m\u001b[1;39m,\n",
      "              \u001b[0m\u001b[34;1m\"answers\"\u001b[0m\u001b[1;39m: \u001b[0m\u001b[1;39m[\n",
      "                \u001b[1;39m{\n",
      "                  \u001b[0m\u001b[34;1m\"choice_id\"\u001b[0m\u001b[1;39m: \u001b[0m\u001b[0;32m\"3144764848\"\u001b[0m\u001b[1;39m\n",
      "                \u001b[1;39m}\u001b[0m\u001b[1;39m\n",
      "              \u001b[1;39m]\u001b[0m\u001b[1;39m\n",
      "            \u001b[1;39m}\u001b[0m\u001b[1;39m,\n",
      "            \u001b[1;39m{\n",
      "              \u001b[0m\u001b[34;1m\"id\"\u001b[0m\u001b[1;39m: \u001b[0m\u001b[0;32m\"476164754\"\u001b[0m\u001b[1;39m,\n",
      "              \u001b[0m\u001b[34;1m\"answers\"\u001b[0m\u001b[1;39m: \u001b[0m\u001b[1;39m[\n",
      "                \u001b[1;39m{\n",
      "                  \u001b[0m\u001b[34;1m\"choice_id\"\u001b[0m\u001b[1;39m: \u001b[0m\u001b[0;32m\"3144764862\"\u001b[0m\u001b[1;39m\n",
      "                \u001b[1;39m}\u001b[0m\u001b[1;39m,\n",
      "                \u001b[1;39m{\n",
      "                  \u001b[0m\u001b[34;1m\"choice_id\"\u001b[0m\u001b[1;39m: \u001b[0m\u001b[0;32m\"3144764863\"\u001b[0m\u001b[1;39m\n",
      "                \u001b[1;39m}\u001b[0m\u001b[1;39m\n",
      "              \u001b[1;39m]\u001b[0m\u001b[1;39m\n",
      "            \u001b[1;39m}\u001b[0m\u001b[1;39m,\n",
      "            \u001b[1;39m{\n",
      "              \u001b[0m\u001b[34;1m\"id\"\u001b[0m\u001b[1;39m: \u001b[0m\u001b[0;32m\"476164747\"\u001b[0m\u001b[1;39m,\n",
      "              \u001b[0m\u001b[34;1m\"answers\"\u001b[0m\u001b[1;39m: \u001b[0m\u001b[1;39m[\n",
      "                \u001b[1;39m{\n",
      "                  \u001b[0m\u001b[34;1m\"other_id\"\u001b[0m\u001b[1;39m: \u001b[0m\u001b[0;32m\"3144785829\"\u001b[0m\u001b[1;39m,\n",
      "                  \u001b[0m\u001b[34;1m\"text\"\u001b[0m\u001b[1;39m: \u001b[0m\u001b[0;32m\"Answer Choice for Question 3\"\u001b[0m\u001b[1;39m\n",
      "                \u001b[1;39m}\u001b[0m\u001b[1;39m\n",
      "              \u001b[1;39m]\u001b[0m\u001b[1;39m\n",
      "            \u001b[1;39m}\u001b[0m\u001b[1;39m,\n",
      "            \u001b[1;39m{\n",
      "              \u001b[0m\u001b[34;1m\"id\"\u001b[0m\u001b[1;39m: \u001b[0m\u001b[0;32m\"476164752\"\u001b[0m\u001b[1;39m,\n",
      "              \u001b[0m\u001b[34;1m\"answers\"\u001b[0m\u001b[1;39m: \u001b[0m\u001b[1;39m[\n",
      "                \u001b[1;39m{\n",
      "                  \u001b[0m\u001b[34;1m\"choice_id\"\u001b[0m\u001b[1;39m: \u001b[0m\u001b[0;32m\"3144764856\"\u001b[0m\u001b[1;39m\n",
      "                \u001b[1;39m}\u001b[0m\u001b[1;39m,\n",
      "                \u001b[1;39m{\n",
      "                  \u001b[0m\u001b[34;1m\"other_id\"\u001b[0m\u001b[1;39m: \u001b[0m\u001b[0;32m\"3144795621\"\u001b[0m\u001b[1;39m,\n",
      "                  \u001b[0m\u001b[34;1m\"text\"\u001b[0m\u001b[1;39m: \u001b[0m\u001b[0;32m\"Comment for Question 4\"\u001b[0m\u001b[1;39m\n",
      "                \u001b[1;39m}\u001b[0m\u001b[1;39m\n",
      "              \u001b[1;39m]\u001b[0m\u001b[1;39m\n",
      "            \u001b[1;39m}\u001b[0m\u001b[1;39m,\n",
      "            \u001b[1;39m{\n",
      "              \u001b[0m\u001b[34;1m\"id\"\u001b[0m\u001b[1;39m: \u001b[0m\u001b[0;32m\"476164753\"\u001b[0m\u001b[1;39m,\n",
      "              \u001b[0m\u001b[34;1m\"answers\"\u001b[0m\u001b[1;39m: \u001b[0m\u001b[1;39m[\n",
      "                \u001b[1;39m{\n",
      "                  \u001b[0m\u001b[34;1m\"choice_id\"\u001b[0m\u001b[1;39m: \u001b[0m\u001b[0;32m\"3144764858\"\u001b[0m\u001b[1;39m\n",
      "                \u001b[1;39m}\u001b[0m\u001b[1;39m,\n",
      "                \u001b[1;39m{\n",
      "                  \u001b[0m\u001b[34;1m\"other_id\"\u001b[0m\u001b[1;39m: \u001b[0m\u001b[0;32m\"3144923147\"\u001b[0m\u001b[1;39m,\n",
      "                  \u001b[0m\u001b[34;1m\"text\"\u001b[0m\u001b[1;39m: \u001b[0m\u001b[0;32m\"Answer Choice for Question 5\"\u001b[0m\u001b[1;39m\n",
      "                \u001b[1;39m}\u001b[0m\u001b[1;39m\n",
      "              \u001b[1;39m]\u001b[0m\u001b[1;39m\n",
      "            \u001b[1;39m}\u001b[0m\u001b[1;39m,\n",
      "            \u001b[1;39m{\n",
      "              \u001b[0m\u001b[34;1m\"id\"\u001b[0m\u001b[1;39m: \u001b[0m\u001b[0;32m\"476164755\"\u001b[0m\u001b[1;39m,\n",
      "              \u001b[0m\u001b[34;1m\"answers\"\u001b[0m\u001b[1;39m: \u001b[0m\u001b[1;39m[\n",
      "                \u001b[1;39m{\n",
      "                  \u001b[0m\u001b[34;1m\"choice_id\"\u001b[0m\u001b[1;39m: \u001b[0m\u001b[0;32m\"3144944125\"\u001b[0m\u001b[1;39m,\n",
      "                  \u001b[0m\u001b[34;1m\"row_id\"\u001b[0m\u001b[1;39m: \u001b[0m\u001b[0;32m\"3144764868\"\u001b[0m\u001b[1;39m\n",
      "                \u001b[1;39m}\u001b[0m\u001b[1;39m,\n",
      "                \u001b[1;39m{\n",
      "                  \u001b[0m\u001b[34;1m\"choice_id\"\u001b[0m\u001b[1;39m: \u001b[0m\u001b[0;32m\"3144944126\"\u001b[0m\u001b[1;39m,\n",
      "                  \u001b[0m\u001b[34;1m\"row_id\"\u001b[0m\u001b[1;39m: \u001b[0m\u001b[0;32m\"3144764869\"\u001b[0m\u001b[1;39m\n",
      "                \u001b[1;39m}\u001b[0m\u001b[1;39m,\n",
      "                \u001b[1;39m{\n",
      "                  \u001b[0m\u001b[34;1m\"choice_id\"\u001b[0m\u001b[1;39m: \u001b[0m\u001b[0;32m\"3144944125\"\u001b[0m\u001b[1;39m,\n",
      "                  \u001b[0m\u001b[34;1m\"row_id\"\u001b[0m\u001b[1;39m: \u001b[0m\u001b[0;32m\"3144764870\"\u001b[0m\u001b[1;39m\n",
      "                \u001b[1;39m}\u001b[0m\u001b[1;39m,\n",
      "                \u001b[1;39m{\n",
      "                  \u001b[0m\u001b[34;1m\"choice_id\"\u001b[0m\u001b[1;39m: \u001b[0m\u001b[0;32m\"3144944126\"\u001b[0m\u001b[1;39m,\n",
      "                  \u001b[0m\u001b[34;1m\"row_id\"\u001b[0m\u001b[1;39m: \u001b[0m\u001b[0;32m\"3144764870\"\u001b[0m\u001b[1;39m\n",
      "                \u001b[1;39m}\u001b[0m\u001b[1;39m\n",
      "              \u001b[1;39m]\u001b[0m\u001b[1;39m\n",
      "            \u001b[1;39m}\u001b[0m\u001b[1;39m,\n",
      "            \u001b[1;39m{\n",
      "              \u001b[0m\u001b[34;1m\"id\"\u001b[0m\u001b[1;39m: \u001b[0m\u001b[0;32m\"476191619\"\u001b[0m\u001b[1;39m,\n",
      "              \u001b[0m\u001b[34;1m\"answers\"\u001b[0m\u001b[1;39m: \u001b[0m\u001b[1;39m[\n",
      "                \u001b[1;39m{\n",
      "                  \u001b[0m\u001b[34;1m\"choice_id\"\u001b[0m\u001b[1;39m: \u001b[0m\u001b[0;32m\"3144953941\"\u001b[0m\u001b[1;39m,\n",
      "                  \u001b[0m\u001b[34;1m\"row_id\"\u001b[0m\u001b[1;39m: \u001b[0m\u001b[0;32m\"3144953943\"\u001b[0m\u001b[1;39m\n",
      "                \u001b[1;39m}\u001b[0m\u001b[1;39m,\n",
      "                \u001b[1;39m{\n",
      "                  \u001b[0m\u001b[34;1m\"choice_id\"\u001b[0m\u001b[1;39m: \u001b[0m\u001b[0;32m\"3144953942\"\u001b[0m\u001b[1;39m,\n",
      "                  \u001b[0m\u001b[34;1m\"row_id\"\u001b[0m\u001b[1;39m: \u001b[0m\u001b[0;32m\"3144953944\"\u001b[0m\u001b[1;39m\n",
      "                \u001b[1;39m}\u001b[0m\u001b[1;39m,\n",
      "                \u001b[1;39m{\n",
      "                  \u001b[0m\u001b[34;1m\"choice_id\"\u001b[0m\u001b[1;39m: \u001b[0m\u001b[0;32m\"3144953941\"\u001b[0m\u001b[1;39m,\n",
      "                  \u001b[0m\u001b[34;1m\"row_id\"\u001b[0m\u001b[1;39m: \u001b[0m\u001b[0;32m\"3144953945\"\u001b[0m\u001b[1;39m\n",
      "                \u001b[1;39m}\u001b[0m\u001b[1;39m,\n",
      "                \u001b[1;39m{\n",
      "                  \u001b[0m\u001b[34;1m\"choice_id\"\u001b[0m\u001b[1;39m: \u001b[0m\u001b[0;32m\"3144953942\"\u001b[0m\u001b[1;39m,\n",
      "                  \u001b[0m\u001b[34;1m\"row_id\"\u001b[0m\u001b[1;39m: \u001b[0m\u001b[0;32m\"3144953945\"\u001b[0m\u001b[1;39m\n",
      "                \u001b[1;39m}\u001b[0m\u001b[1;39m,\n",
      "                \u001b[1;39m{\n",
      "                  \u001b[0m\u001b[34;1m\"other_id\"\u001b[0m\u001b[1;39m: \u001b[0m\u001b[0;32m\"3144954400\"\u001b[0m\u001b[1;39m,\n",
      "                  \u001b[0m\u001b[34;1m\"text\"\u001b[0m\u001b[1;39m: \u001b[0m\u001b[0;32m\"Other for Question 7\"\u001b[0m\u001b[1;39m\n",
      "                \u001b[1;39m}\u001b[0m\u001b[1;39m\n",
      "              \u001b[1;39m]\u001b[0m\u001b[1;39m\n",
      "            \u001b[1;39m}\u001b[0m\u001b[1;39m,\n",
      "            \u001b[1;39m{\n",
      "              \u001b[0m\u001b[34;1m\"id\"\u001b[0m\u001b[1;39m: \u001b[0m\u001b[0;32m\"476164748\"\u001b[0m\u001b[1;39m,\n",
      "              \u001b[0m\u001b[34;1m\"answers\"\u001b[0m\u001b[1;39m: \u001b[0m\u001b[1;39m[\n",
      "                \u001b[1;39m{\n",
      "                  \u001b[0m\u001b[34;1m\"tag_data\"\u001b[0m\u001b[1;39m: \u001b[0m\u001b[1;39m[]\u001b[0m\u001b[1;39m,\n",
      "                  \u001b[0m\u001b[34;1m\"text\"\u001b[0m\u001b[1;39m: \u001b[0m\u001b[0;32m\"Comment Text for Question 8\"\u001b[0m\u001b[1;39m\n",
      "                \u001b[1;39m}\u001b[0m\u001b[1;39m\n",
      "              \u001b[1;39m]\u001b[0m\u001b[1;39m\n",
      "            \u001b[1;39m}\u001b[0m\u001b[1;39m,\n",
      "            \u001b[1;39m{\n",
      "              \u001b[0m\u001b[34;1m\"id\"\u001b[0m\u001b[1;39m: \u001b[0m\u001b[0;32m\"476190673\"\u001b[0m\u001b[1;39m,\n",
      "              \u001b[0m\u001b[34;1m\"answers\"\u001b[0m\u001b[1;39m: \u001b[0m\u001b[1;39m[\n",
      "                \u001b[1;39m{\n",
      "                  \u001b[0m\u001b[34;1m\"row_id\"\u001b[0m\u001b[1;39m: \u001b[0m\u001b[0;32m\"3144946244\"\u001b[0m\u001b[1;39m,\n",
      "                  \u001b[0m\u001b[34;1m\"tag_data\"\u001b[0m\u001b[1;39m: \u001b[0m\u001b[1;39m[]\u001b[0m\u001b[1;39m,\n",
      "                  \u001b[0m\u001b[34;1m\"text\"\u001b[0m\u001b[1;39m: \u001b[0m\u001b[0;32m\"John Smith\"\u001b[0m\u001b[1;39m\n",
      "                \u001b[1;39m}\u001b[0m\u001b[1;39m,\n",
      "                \u001b[1;39m{\n",
      "                  \u001b[0m\u001b[34;1m\"row_id\"\u001b[0m\u001b[1;39m: \u001b[0m\u001b[0;32m\"3144946248\"\u001b[0m\u001b[1;39m,\n",
      "                  \u001b[0m\u001b[34;1m\"tag_data\"\u001b[0m\u001b[1;39m: \u001b[0m\u001b[1;39m[]\u001b[0m\u001b[1;39m,\n",
      "                  \u001b[0m\u001b[34;1m\"text\"\u001b[0m\u001b[1;39m: \u001b[0m\u001b[0;32m\"San Francisco\"\u001b[0m\u001b[1;39m\n",
      "                \u001b[1;39m}\u001b[0m\u001b[1;39m,\n",
      "                \u001b[1;39m{\n",
      "                  \u001b[0m\u001b[34;1m\"row_id\"\u001b[0m\u001b[1;39m: \u001b[0m\u001b[0;32m\"3144946252\"\u001b[0m\u001b[1;39m,\n",
      "                  \u001b[0m\u001b[34;1m\"tag_data\"\u001b[0m\u001b[1;39m: \u001b[0m\u001b[1;39m[]\u001b[0m\u001b[1;39m,\n",
      "                  \u001b[0m\u001b[34;1m\"text\"\u001b[0m\u001b[1;39m: \u001b[0m\u001b[0;32m\"john@smith.com\"\u001b[0m\u001b[1;39m\n",
      "                \u001b[1;39m}\u001b[0m\u001b[1;39m,\n",
      "                \u001b[1;39m{\n",
      "                  \u001b[0m\u001b[34;1m\"row_id\"\u001b[0m\u001b[1;39m: \u001b[0m\u001b[0;32m\"3144946253\"\u001b[0m\u001b[1;39m,\n",
      "                  \u001b[0m\u001b[34;1m\"tag_data\"\u001b[0m\u001b[1;39m: \u001b[0m\u001b[1;39m[]\u001b[0m\u001b[1;39m,\n",
      "                  \u001b[0m\u001b[34;1m\"text\"\u001b[0m\u001b[1;39m: \u001b[0m\u001b[0;32m\"(555) 123-4567\"\u001b[0m\u001b[1;39m\n",
      "                \u001b[1;39m}\u001b[0m\u001b[1;39m\n",
      "              \u001b[1;39m]\u001b[0m\u001b[1;39m\n",
      "            \u001b[1;39m}\u001b[0m\u001b[1;39m\n",
      "          \u001b[1;39m]\u001b[0m\u001b[1;39m\n",
      "        \u001b[1;39m}\u001b[0m\u001b[1;39m\n",
      "      \u001b[1;39m]\u001b[0m\u001b[1;39m\n",
      "    \u001b[1;39m}\u001b[0m\u001b[1;39m\n",
      "  \u001b[1;39m]\u001b[0m\u001b[1;39m,\n",
      "  \u001b[0m\u001b[34;1m\"per_page\"\u001b[0m\u001b[1;39m: \u001b[0m\u001b[0;39m1\u001b[0m\u001b[1;39m,\n",
      "  \u001b[0m\u001b[34;1m\"page\"\u001b[0m\u001b[1;39m: \u001b[0m\u001b[0;39m1\u001b[0m\u001b[1;39m,\n",
      "  \u001b[0m\u001b[34;1m\"total\"\u001b[0m\u001b[1;39m: \u001b[0m\u001b[0;39m3\u001b[0m\u001b[1;39m,\n",
      "  \u001b[0m\u001b[34;1m\"links\"\u001b[0m\u001b[1;39m: \u001b[0m\u001b[1;39m{\n",
      "    \u001b[0m\u001b[34;1m\"self\"\u001b[0m\u001b[1;39m: \u001b[0m\u001b[0;32m\"https://api.surveymonkey.net/v3/surveys/284955270/responses/bulk/?page=1&per_page=1\"\u001b[0m\u001b[1;39m,\n",
      "    \u001b[0m\u001b[34;1m\"next\"\u001b[0m\u001b[1;39m: \u001b[0m\u001b[0;32m\"https://api.surveymonkey.net/v3/surveys/284955270/responses/bulk/?page=2&per_page=1\"\u001b[0m\u001b[1;39m,\n",
      "    \u001b[0m\u001b[34;1m\"last\"\u001b[0m\u001b[1;39m: \u001b[0m\u001b[0;32m\"https://api.surveymonkey.net/v3/surveys/284955270/responses/bulk/?page=3&per_page=1\"\u001b[0m\u001b[1;39m\n",
      "  \u001b[1;39m}\u001b[0m\u001b[1;39m\n",
      "\u001b[1;39m}\u001b[0m\n"
     ]
    }
   ],
   "source": [
    "# brew install tree jq\n",
    "!tree data/$SURVEY_ID/responses\n",
    "!jq . data/$SURVEY_ID/responses/`ls data/$SURVEY_ID/responses/ | head -1`"
   ]
  },
  {
   "cell_type": "markdown",
   "metadata": {},
   "source": [
    "## Response `DataFrame`"
   ]
  },
  {
   "cell_type": "code",
   "execution_count": 4,
   "metadata": {},
   "outputs": [
    {
     "name": "stdout",
     "output_type": "stream",
     "text": [
      "+-----------+------------+---------------+---------------+------------+----------+---------+-------------+--------------+--------+---------+------------+---------+--------------------+--------------------+----------+--------------------+--------------------+--------------------+---------------------+------------------------------------------+-------------------------------------+-----------------------------------+-------------------------------------+-----------------------------------------+-----------------------------------------------+---------------------------------------+---------------------------------------------+---------------------------------------------------------+-------------------------------------------------------------+-----------------------------------------------------------+----------------------------------------------------+----------------------------------------+----------------------------------------+----------------------------------------+----------------------------------------+----------------------------------------+----------------------------------------------+----------------------------------------------+----------------------------------------------+----------------------------------------------+----------------------------------------------+-------------------------------------------+--------------------+------------------------+---------------------------+-----------------------------+---------------------------------+--------------------------------+\n",
      "|response_id|recipient_id|collection_mode|response_status|custom_value|first_name|last_name|email_address|    ip_address|metadata|page_path|collector_id|survey_id|            edit_url|         analyze_url|total_time|       date_modified|        date_created|                href|multiple_choice_radio|multiple_choice_checkboxes_paper_bulletins|multiple_choice_checkboxes_email_list|multiple_choice_checkboxes_nextdoor|multiple_choice_checkboxes_group_chat|multiple_choice_radio_other_answer_choice|multiple_choice_radio_other_answer_choice_other|multiple_choice_radio_other_comment_box|multiple_choice_radio_other_comment_box_other|multiple_choice_checkboxes_other_answer_choice_very_clean|multiple_choice_checkboxes_other_answer_choice_somewhat_clean|multiple_choice_checkboxes_other_answer_choice_not_so_clean|multiple_choice_checkboxes_other_answer_choice_other|matrix_scale_multiple_responses_option_a|matrix_scale_multiple_responses_option_b|matrix_scale_multiple_responses_option_c|matrix_scale_multiple_responses_option_b|matrix_scale_multiple_responses_option_c|matrix_scale_multiple_responses_other_option_a|matrix_scale_multiple_responses_other_option_c|matrix_scale_multiple_responses_other_option_a|matrix_scale_multiple_responses_other_option_b|matrix_scale_multiple_responses_other_option_c|matrix_scale_multiple_responses_other_other|         comment_box|contact_information_name|contact_information_company|contact_information_city_town|contact_information_email_address|contact_information_phone_number|\n",
      "+-----------+------------+---------------+---------------+------------+----------+---------+-------------+--------------+--------+---------+------------+---------+--------------------+--------------------+----------+--------------------+--------------------+--------------------+---------------------+------------------------------------------+-------------------------------------+-----------------------------------+-------------------------------------+-----------------------------------------+-----------------------------------------------+---------------------------------------+---------------------------------------------+---------------------------------------------------------+-------------------------------------------------------------+-----------------------------------------------------------+----------------------------------------------------+----------------------------------------+----------------------------------------+----------------------------------------+----------------------------------------+----------------------------------------+----------------------------------------------+----------------------------------------------+----------------------------------------------+----------------------------------------------+----------------------------------------------+-------------------------------------------+--------------------+------------------------+---------------------------+-----------------------------+---------------------------------+--------------------------------+\n",
      "|11670865337|        null|        default|      completed|        null|      null|     null|         null|104.177.38.142|    null|       []|   260965847|284955270|https://www.surve...|https://www.surve...|       185|2020-06-05T19:33:...|2020-06-05T19:30:...|https://api.surve...|    A moderate amount|                                      null|                                 null|                           Nextdoor|                           Group chat|                            Somewhat well|                                           null|                        Somewhat strong|                                         null|                                                     null|                                               Somewhat clean|                                               Not so clean|                                                null|                                     Yes|                                    null|                                    null|                                    null|                                    null|                                           Yes|                                          null|                                          null|                                          null|                                          null|                                       null|                null|                    Jane|                        Doe|                         null|                     jane@doe.org|                      5559871234|\n",
      "|11670854001|        null|        default|      completed|        null|      null|     null|         null|104.177.38.142|    null|       []|   260965847|284955270|https://www.surve...|https://www.surve...|       223|2020-06-05T19:30:...|2020-06-05T19:26:...|https://api.surve...|                A lot|                           Paper bulletins|                           Email list|                               null|                                 null|                     Other (please spe...|                           Answer Choice for...|                      Not at all strong|                         Comment for Quest...|                                               Very clean|                                                         null|                                                       null|                                Answer Choice for...|                                     Yes|                                    null|                                     Yes|                                      No|                                      No|                                           Yes|                                           Yes|                                          null|                                            No|                                            No|                       Other for Question 7|Comment Text for ...|              John Smith|                       null|                San Francisco|                   john@smith.com|                  (555) 123-4567|\n",
      "|11670870996|        null|        default|      completed|        null|      null|     null|         null|104.177.38.142|    null|       []|   260965847|284955270|https://www.surve...|https://www.surve...|       109|2020-06-05T19:35:...|2020-06-05T19:33:...|https://api.surve...|                A lot|                           Paper bulletins|                                 null|                           Nextdoor|                                 null|                                Very well|                                           null|                            Very strong|                                lorem ipsum 4|                                               Very clean|                                                         null|                                                       null|                                       lorem ipsum 5|                                     Yes|                                     Yes|                                     Yes|                                    null|                                    null|                                          null|                                          null|                                            No|                                            No|                                            No|                                       null|       lorem ipsum 8|                     Foo|                        Bar|                         null|                      foo@bar.com|                    555-456-7890|\n",
      "+-----------+------------+---------------+---------------+------------+----------+---------+-------------+--------------+--------+---------+------------+---------+--------------------+--------------------+----------+--------------------+--------------------+--------------------+---------------------+------------------------------------------+-------------------------------------+-----------------------------------+-------------------------------------+-----------------------------------------+-----------------------------------------------+---------------------------------------+---------------------------------------------+---------------------------------------------------------+-------------------------------------------------------------+-----------------------------------------------------------+----------------------------------------------------+----------------------------------------+----------------------------------------+----------------------------------------+----------------------------------------+----------------------------------------+----------------------------------------------+----------------------------------------------+----------------------------------------------+----------------------------------------------+----------------------------------------------+-------------------------------------------+--------------------+------------------------+---------------------------+-----------------------------+---------------------------------+--------------------------------+\n",
      "\n",
      "['response_id',\n",
      " 'recipient_id',\n",
      " 'collection_mode',\n",
      " 'response_status',\n",
      " 'custom_value',\n",
      " 'first_name',\n",
      " 'last_name',\n",
      " 'email_address',\n",
      " 'ip_address',\n",
      " 'metadata',\n",
      " 'page_path',\n",
      " 'collector_id',\n",
      " 'survey_id',\n",
      " 'edit_url',\n",
      " 'analyze_url',\n",
      " 'total_time',\n",
      " 'date_modified',\n",
      " 'date_created',\n",
      " 'href',\n",
      " 'multiple_choice_radio',\n",
      " 'multiple_choice_checkboxes_paper_bulletins',\n",
      " 'multiple_choice_checkboxes_email_list',\n",
      " 'multiple_choice_checkboxes_nextdoor',\n",
      " 'multiple_choice_checkboxes_group_chat',\n",
      " 'multiple_choice_radio_other_answer_choice',\n",
      " 'multiple_choice_radio_other_answer_choice_other',\n",
      " 'multiple_choice_radio_other_comment_box',\n",
      " 'multiple_choice_radio_other_comment_box_other',\n",
      " 'multiple_choice_checkboxes_other_answer_choice_very_clean',\n",
      " 'multiple_choice_checkboxes_other_answer_choice_somewhat_clean',\n",
      " 'multiple_choice_checkboxes_other_answer_choice_not_so_clean',\n",
      " 'multiple_choice_checkboxes_other_answer_choice_other',\n",
      " 'matrix_scale_multiple_responses_option_a',\n",
      " 'matrix_scale_multiple_responses_option_b',\n",
      " 'matrix_scale_multiple_responses_option_c',\n",
      " 'matrix_scale_multiple_responses_option_b',\n",
      " 'matrix_scale_multiple_responses_option_c',\n",
      " 'matrix_scale_multiple_responses_other_option_a',\n",
      " 'matrix_scale_multiple_responses_other_option_c',\n",
      " 'matrix_scale_multiple_responses_other_option_a',\n",
      " 'matrix_scale_multiple_responses_other_option_b',\n",
      " 'matrix_scale_multiple_responses_other_option_c',\n",
      " 'matrix_scale_multiple_responses_other_other',\n",
      " 'comment_box',\n",
      " 'contact_information_name',\n",
      " 'contact_information_company',\n",
      " 'contact_information_city_town',\n",
      " 'contact_information_email_address',\n",
      " 'contact_information_phone_number']\n"
     ]
    }
   ],
   "source": [
    "from spark_surveymonkey import transform_survey\n",
    "\n",
    "spark = SparkSession.builder.appName('example').getOrCreate()\n",
    "survey_responses = f'data/{SURVEY_ID}/responses/'\n",
    "survey_details = f'data/{SURVEY_ID}/details.json'\n",
    "\n",
    "df = transform_survey(spark, survey_responses, survey_details)\n",
    "\n",
    "df.show()\n",
    "pprint(df.columns)"
   ]
  },
  {
   "cell_type": "markdown",
   "metadata": {},
   "source": [
    "### Step by Step Transformations"
   ]
  },
  {
   "cell_type": "code",
   "execution_count": 5,
   "metadata": {},
   "outputs": [
    {
     "name": "stdout",
     "output_type": "stream",
     "text": [
      "Flatten JSON -> DataFrame, with expanded nodes for pages, questions, answers\n",
      "+-----------+------------+---------------+---------------+------------+----------+---------+-------------+--------------+--------+---------+------------+---------+--------------------+--------------------+----------+--------------------+--------------------+--------------------+---------+-----------+----------+----------+------+----------+--------+--------------------+\n",
      "|response_id|recipient_id|collection_mode|response_status|custom_value|first_name|last_name|email_address|    ip_address|metadata|page_path|collector_id|survey_id|            edit_url|         analyze_url|total_time|       date_modified|        date_created|                href|  page_id|question_id| choice_id|    row_id|col_id|  other_id|tag_data|                text|\n",
      "+-----------+------------+---------------+---------------+------------+----------+---------+-------------+--------------+--------+---------+------------+---------+--------------------+--------------------+----------+--------------------+--------------------+--------------------+---------+-----------+----------+----------+------+----------+--------+--------------------+\n",
      "|11670854001|        null|        default|      completed|        null|      null|     null|         null|104.177.38.142|    null|       []|   260965847|284955270|https://www.surve...|https://www.surve...|       223|2020-06-05T19:30:...|2020-06-05T19:26:...|https://api.surve...|125594488|  476164751|3144764848|      null|  null|      null|    null|                null|\n",
      "|11670854001|        null|        default|      completed|        null|      null|     null|         null|104.177.38.142|    null|       []|   260965847|284955270|https://www.surve...|https://www.surve...|       223|2020-06-05T19:30:...|2020-06-05T19:26:...|https://api.surve...|125594488|  476164754|3144764862|      null|  null|      null|    null|                null|\n",
      "|11670854001|        null|        default|      completed|        null|      null|     null|         null|104.177.38.142|    null|       []|   260965847|284955270|https://www.surve...|https://www.surve...|       223|2020-06-05T19:30:...|2020-06-05T19:26:...|https://api.surve...|125594488|  476164754|3144764863|      null|  null|      null|    null|                null|\n",
      "|11670854001|        null|        default|      completed|        null|      null|     null|         null|104.177.38.142|    null|       []|   260965847|284955270|https://www.surve...|https://www.surve...|       223|2020-06-05T19:30:...|2020-06-05T19:26:...|https://api.surve...|125594488|  476164747|      null|      null|  null|3144785829|    null|Answer Choice for...|\n",
      "|11670854001|        null|        default|      completed|        null|      null|     null|         null|104.177.38.142|    null|       []|   260965847|284955270|https://www.surve...|https://www.surve...|       223|2020-06-05T19:30:...|2020-06-05T19:26:...|https://api.surve...|125594488|  476164752|3144764856|      null|  null|      null|    null|                null|\n",
      "|11670854001|        null|        default|      completed|        null|      null|     null|         null|104.177.38.142|    null|       []|   260965847|284955270|https://www.surve...|https://www.surve...|       223|2020-06-05T19:30:...|2020-06-05T19:26:...|https://api.surve...|125594488|  476164752|      null|      null|  null|3144795621|    null|Comment for Quest...|\n",
      "|11670854001|        null|        default|      completed|        null|      null|     null|         null|104.177.38.142|    null|       []|   260965847|284955270|https://www.surve...|https://www.surve...|       223|2020-06-05T19:30:...|2020-06-05T19:26:...|https://api.surve...|125594488|  476164753|3144764858|      null|  null|      null|    null|                null|\n",
      "|11670854001|        null|        default|      completed|        null|      null|     null|         null|104.177.38.142|    null|       []|   260965847|284955270|https://www.surve...|https://www.surve...|       223|2020-06-05T19:30:...|2020-06-05T19:26:...|https://api.surve...|125594488|  476164753|      null|      null|  null|3144923147|    null|Answer Choice for...|\n",
      "|11670854001|        null|        default|      completed|        null|      null|     null|         null|104.177.38.142|    null|       []|   260965847|284955270|https://www.surve...|https://www.surve...|       223|2020-06-05T19:30:...|2020-06-05T19:26:...|https://api.surve...|125594488|  476164755|3144944125|3144764868|  null|      null|    null|                null|\n",
      "|11670854001|        null|        default|      completed|        null|      null|     null|         null|104.177.38.142|    null|       []|   260965847|284955270|https://www.surve...|https://www.surve...|       223|2020-06-05T19:30:...|2020-06-05T19:26:...|https://api.surve...|125594488|  476164755|3144944126|3144764869|  null|      null|    null|                null|\n",
      "+-----------+------------+---------------+---------------+------------+----------+---------+-------------+--------------+--------+---------+------------+---------+--------------------+--------------------+----------+--------------------+--------------------+--------------------+---------+-----------+----------+----------+------+----------+--------+--------------------+\n",
      "only showing top 10 rows\n",
      "\n",
      "Interpret questions/answers using details.json and infer structure\n",
      "+-----------+------------+---------------+---------------+------------+----------+---------+-------------+--------------+--------+---------+------------+---------+--------------------+--------------------+----------+--------------------+--------------------+--------------------+---------+-----------+----------+----------+------+----------+--------+--------------------+--------+------------+---------------+--------------------+--------------------+--------+--------+-----------------+--------------------+--------------------+\n",
      "|response_id|recipient_id|collection_mode|response_status|custom_value|first_name|last_name|email_address|    ip_address|metadata|page_path|collector_id|survey_id|            edit_url|         analyze_url|total_time|       date_modified|        date_created|                href|  page_id|question_id| choice_id|    row_id|col_id|  other_id|tag_data|                text|page_idx|question_idx|         family|             heading|        heading_norm|     row|row_norm|           choice|              column|               value|\n",
      "+-----------+------------+---------------+---------------+------------+----------+---------+-------------+--------------+--------+---------+------------+---------+--------------------+--------------------+----------+--------------------+--------------------+--------------------+---------+-----------+----------+----------+------+----------+--------+--------------------+--------+------------+---------------+--------------------+--------------------+--------+--------+-----------------+--------------------+--------------------+\n",
      "|11670854001|        null|        default|      completed|        null|      null|     null|         null|104.177.38.142|    null|       []|   260965847|284955270|https://www.surve...|https://www.surve...|       223|2020-06-05T19:30:...|2020-06-05T19:26:...|https://api.surve...|125594488|  476164751|3144764848|      null|  null|      null|    null|                null|   00001|       00002|  single_choice|Multiple Choice -...|multiple_choice_r...|    null|    null|            A lot|multiple_choice_r...|               A lot|\n",
      "|11670854001|        null|        default|      completed|        null|      null|     null|         null|104.177.38.142|    null|       []|   260965847|284955270|https://www.surve...|https://www.surve...|       223|2020-06-05T19:30:...|2020-06-05T19:26:...|https://api.surve...|125594488|  476164754|3144764862|      null|  null|      null|    null|                null|   00001|       00003|multiple_choice|Multiple Choice -...|multiple_choice_c...|    null|    null|  Paper bulletins|multiple_choice_c...|     Paper bulletins|\n",
      "|11670854001|        null|        default|      completed|        null|      null|     null|         null|104.177.38.142|    null|       []|   260965847|284955270|https://www.surve...|https://www.surve...|       223|2020-06-05T19:30:...|2020-06-05T19:26:...|https://api.surve...|125594488|  476164754|3144764863|      null|  null|      null|    null|                null|   00001|       00003|multiple_choice|Multiple Choice -...|multiple_choice_c...|    null|    null|       Email list|multiple_choice_c...|          Email list|\n",
      "|11670854001|        null|        default|      completed|        null|      null|     null|         null|104.177.38.142|    null|       []|   260965847|284955270|https://www.surve...|https://www.surve...|       223|2020-06-05T19:30:...|2020-06-05T19:26:...|https://api.surve...|125594488|  476164747|      null|      null|  null|3144785829|    null|Answer Choice for...|   00001|       00004|  single_choice|Multiple Choice -...|multiple_choice_r...|    null|    null|             null|multiple_choice_r...|Answer Choice for...|\n",
      "|11670854001|        null|        default|      completed|        null|      null|     null|         null|104.177.38.142|    null|       []|   260965847|284955270|https://www.surve...|https://www.surve...|       223|2020-06-05T19:30:...|2020-06-05T19:26:...|https://api.surve...|125594488|  476164752|3144764856|      null|  null|      null|    null|                null|   00001|       00005|  single_choice|Multiple Choice -...|multiple_choice_r...|    null|    null|Not at all strong|multiple_choice_r...|   Not at all strong|\n",
      "|11670854001|        null|        default|      completed|        null|      null|     null|         null|104.177.38.142|    null|       []|   260965847|284955270|https://www.surve...|https://www.surve...|       223|2020-06-05T19:30:...|2020-06-05T19:26:...|https://api.surve...|125594488|  476164752|      null|      null|  null|3144795621|    null|Comment for Quest...|   00001|       00005|  single_choice|Multiple Choice -...|multiple_choice_r...|    null|    null|             null|multiple_choice_r...|Comment for Quest...|\n",
      "|11670854001|        null|        default|      completed|        null|      null|     null|         null|104.177.38.142|    null|       []|   260965847|284955270|https://www.surve...|https://www.surve...|       223|2020-06-05T19:30:...|2020-06-05T19:26:...|https://api.surve...|125594488|  476164753|3144764858|      null|  null|      null|    null|                null|   00001|       00006|multiple_choice|Multiple Choice -...|multiple_choice_c...|    null|    null|       Very clean|multiple_choice_c...|          Very clean|\n",
      "|11670854001|        null|        default|      completed|        null|      null|     null|         null|104.177.38.142|    null|       []|   260965847|284955270|https://www.surve...|https://www.surve...|       223|2020-06-05T19:30:...|2020-06-05T19:26:...|https://api.surve...|125594488|  476164753|      null|      null|  null|3144923147|    null|Answer Choice for...|   00001|       00006|multiple_choice|Multiple Choice -...|multiple_choice_c...|    null|    null|             null|multiple_choice_c...|Answer Choice for...|\n",
      "|11670854001|        null|        default|      completed|        null|      null|     null|         null|104.177.38.142|    null|       []|   260965847|284955270|https://www.surve...|https://www.surve...|       223|2020-06-05T19:30:...|2020-06-05T19:26:...|https://api.surve...|125594488|  476164755|3144944125|3144764868|  null|      null|    null|                null|   00001|       00007|         matrix|Matrix Scale - Mu...|matrix_scale_mult...|Option A|option_a|              Yes|matrix_scale_mult...|                 Yes|\n",
      "|11670854001|        null|        default|      completed|        null|      null|     null|         null|104.177.38.142|    null|       []|   260965847|284955270|https://www.surve...|https://www.surve...|       223|2020-06-05T19:30:...|2020-06-05T19:26:...|https://api.surve...|125594488|  476164755|3144944126|3144764869|  null|      null|    null|                null|   00001|       00007|         matrix|Matrix Scale - Mu...|matrix_scale_mult...|Option B|option_b|               No|matrix_scale_mult...|                  No|\n",
      "+-----------+------------+---------------+---------------+------------+----------+---------+-------------+--------------+--------+---------+------------+---------+--------------------+--------------------+----------+--------------------+--------------------+--------------------+---------+-----------+----------+----------+------+----------+--------+--------------------+--------+------------+---------------+--------------------+--------------------+--------+--------+-----------------+--------------------+--------------------+\n",
      "only showing top 10 rows\n",
      "\n",
      "Pivot to wide DataFrame (1 row per respondent)\n"
     ]
    },
    {
     "name": "stdout",
     "output_type": "stream",
     "text": [
      "+-----------+------------+---------------+---------------+------------+----------+---------+-------------+--------------+--------+---------+------------+---------+--------------------+--------------------+----------+--------------------+--------------------+--------------------+---------------------+------------------------------------------+-------------------------------------+-----------------------------------+-------------------------------------+-----------------------------------------+-----------------------------------------------+---------------------------------------+---------------------------------------------+---------------------------------------------------------+-------------------------------------------------------------+-----------------------------------------------------------+----------------------------------------------------+----------------------------------------+----------------------------------------+----------------------------------------+----------------------------------------+----------------------------------------+----------------------------------------------+----------------------------------------------+----------------------------------------------+----------------------------------------------+----------------------------------------------+-------------------------------------------+--------------------+------------------------+---------------------------+-----------------------------+---------------------------------+--------------------------------+\n",
      "|response_id|recipient_id|collection_mode|response_status|custom_value|first_name|last_name|email_address|    ip_address|metadata|page_path|collector_id|survey_id|            edit_url|         analyze_url|total_time|       date_modified|        date_created|                href|multiple_choice_radio|multiple_choice_checkboxes_paper_bulletins|multiple_choice_checkboxes_email_list|multiple_choice_checkboxes_nextdoor|multiple_choice_checkboxes_group_chat|multiple_choice_radio_other_answer_choice|multiple_choice_radio_other_answer_choice_other|multiple_choice_radio_other_comment_box|multiple_choice_radio_other_comment_box_other|multiple_choice_checkboxes_other_answer_choice_very_clean|multiple_choice_checkboxes_other_answer_choice_somewhat_clean|multiple_choice_checkboxes_other_answer_choice_not_so_clean|multiple_choice_checkboxes_other_answer_choice_other|matrix_scale_multiple_responses_option_a|matrix_scale_multiple_responses_option_b|matrix_scale_multiple_responses_option_c|matrix_scale_multiple_responses_option_b|matrix_scale_multiple_responses_option_c|matrix_scale_multiple_responses_other_option_a|matrix_scale_multiple_responses_other_option_c|matrix_scale_multiple_responses_other_option_a|matrix_scale_multiple_responses_other_option_b|matrix_scale_multiple_responses_other_option_c|matrix_scale_multiple_responses_other_other|         comment_box|contact_information_name|contact_information_company|contact_information_city_town|contact_information_email_address|contact_information_phone_number|\n",
      "+-----------+------------+---------------+---------------+------------+----------+---------+-------------+--------------+--------+---------+------------+---------+--------------------+--------------------+----------+--------------------+--------------------+--------------------+---------------------+------------------------------------------+-------------------------------------+-----------------------------------+-------------------------------------+-----------------------------------------+-----------------------------------------------+---------------------------------------+---------------------------------------------+---------------------------------------------------------+-------------------------------------------------------------+-----------------------------------------------------------+----------------------------------------------------+----------------------------------------+----------------------------------------+----------------------------------------+----------------------------------------+----------------------------------------+----------------------------------------------+----------------------------------------------+----------------------------------------------+----------------------------------------------+----------------------------------------------+-------------------------------------------+--------------------+------------------------+---------------------------+-----------------------------+---------------------------------+--------------------------------+\n",
      "|11670865337|        null|        default|      completed|        null|      null|     null|         null|104.177.38.142|    null|       []|   260965847|284955270|https://www.surve...|https://www.surve...|       185|2020-06-05T19:33:...|2020-06-05T19:30:...|https://api.surve...|    A moderate amount|                                      null|                                 null|                           Nextdoor|                           Group chat|                            Somewhat well|                                           null|                        Somewhat strong|                                         null|                                                     null|                                               Somewhat clean|                                               Not so clean|                                                null|                                     Yes|                                    null|                                    null|                                    null|                                    null|                                           Yes|                                          null|                                          null|                                          null|                                          null|                                       null|                null|                    Jane|                        Doe|                         null|                     jane@doe.org|                      5559871234|\n",
      "|11670854001|        null|        default|      completed|        null|      null|     null|         null|104.177.38.142|    null|       []|   260965847|284955270|https://www.surve...|https://www.surve...|       223|2020-06-05T19:30:...|2020-06-05T19:26:...|https://api.surve...|                A lot|                           Paper bulletins|                           Email list|                               null|                                 null|                     Other (please spe...|                           Answer Choice for...|                      Not at all strong|                         Comment for Quest...|                                               Very clean|                                                         null|                                                       null|                                Answer Choice for...|                                     Yes|                                    null|                                     Yes|                                      No|                                      No|                                           Yes|                                           Yes|                                          null|                                            No|                                            No|                       Other for Question 7|Comment Text for ...|              John Smith|                       null|                San Francisco|                   john@smith.com|                  (555) 123-4567|\n",
      "|11670870996|        null|        default|      completed|        null|      null|     null|         null|104.177.38.142|    null|       []|   260965847|284955270|https://www.surve...|https://www.surve...|       109|2020-06-05T19:35:...|2020-06-05T19:33:...|https://api.surve...|                A lot|                           Paper bulletins|                                 null|                           Nextdoor|                                 null|                                Very well|                                           null|                            Very strong|                                lorem ipsum 4|                                               Very clean|                                                         null|                                                       null|                                       lorem ipsum 5|                                     Yes|                                     Yes|                                     Yes|                                    null|                                    null|                                          null|                                          null|                                            No|                                            No|                                            No|                                       null|       lorem ipsum 8|                     Foo|                        Bar|                         null|                      foo@bar.com|                    555-456-7890|\n",
      "+-----------+------------+---------------+---------------+------------+----------+---------+-------------+--------------+--------+---------+------------+---------+--------------------+--------------------+----------+--------------------+--------------------+--------------------+---------------------+------------------------------------------+-------------------------------------+-----------------------------------+-------------------------------------+-----------------------------------------+-----------------------------------------------+---------------------------------------+---------------------------------------------+---------------------------------------------------------+-------------------------------------------------------------+-----------------------------------------------------------+----------------------------------------------------+----------------------------------------+----------------------------------------+----------------------------------------+----------------------------------------+----------------------------------------+----------------------------------------------+----------------------------------------------+----------------------------------------------+----------------------------------------------+----------------------------------------------+-------------------------------------------+--------------------+------------------------+---------------------------+-----------------------------+---------------------------------+--------------------------------+\n",
      "\n"
     ]
    }
   ],
   "source": [
    "from spark_surveymonkey import _transform\n",
    "\n",
    "print(\"Flatten JSON -> DataFrame, with expanded nodes for pages, questions, answers\")\n",
    "df = _transform.flatten(spark, f'data/{SURVEY_ID}/responses/')\n",
    "df.show(10)\n",
    "\n",
    "print(\"Interpret questions/answers using details.json and infer structure\")\n",
    "df = _transform.interpret(df, f'data/{SURVEY_ID}/details.json')\n",
    "df.show(10)\n",
    "\n",
    "print(\"Pivot to wide DataFrame (1 row per respondent)\")\n",
    "df = _transform.pivot(df)\n",
    "df.show()"
   ]
  },
  {
   "cell_type": "code",
   "execution_count": null,
   "metadata": {},
   "outputs": [],
   "source": []
  }
 ],
 "metadata": {
  "kernelspec": {
   "display_name": "Python 3",
   "language": "python",
   "name": "python3"
  },
  "language_info": {
   "codemirror_mode": {
    "name": "ipython",
    "version": 3
   },
   "file_extension": ".py",
   "mimetype": "text/x-python",
   "name": "python",
   "nbconvert_exporter": "python",
   "pygments_lexer": "ipython3",
   "version": "3.6.10"
  }
 },
 "nbformat": 4,
 "nbformat_minor": 4
}
