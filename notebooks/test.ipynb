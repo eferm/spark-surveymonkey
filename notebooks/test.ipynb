{
 "cells": [
  {
   "cell_type": "code",
   "execution_count": null,
   "metadata": {},
   "outputs": [],
   "source": [
    "%load_ext autoreload\n",
    "%autoreload 2"
   ]
  },
  {
   "cell_type": "code",
   "execution_count": null,
   "metadata": {},
   "outputs": [],
   "source": [
    "from pprint import pprint\n",
    "\n",
    "import jq\n",
    "import requests\n",
    "from pyspark.sql import SparkSession, functions as F\n",
    "from IPython.display import HTML\n",
    "\n",
    "display(HTML(\"<style>pre { white-space: pre !important; }</style>\"))"
   ]
  },
  {
   "cell_type": "code",
   "execution_count": null,
   "metadata": {
    "scrolled": false
   },
   "outputs": [],
   "source": [
    "import os\n",
    "import dotenv\n",
    "\n",
    "dotenv.load_dotenv()\n",
    "TOKEN = os.getenv(\"ACCESS_TOKEN\")\n",
    "\n",
    "headers = {\n",
    "    'Authorization': f'Bearer {TOKEN}',\n",
    "    'Content-Type': 'application/json'\n",
    "}\n",
    "response = requests.get('https://api.surveymonkey.com/v3/surveys',\n",
    "                        headers=headers)\n",
    "\n",
    "surveys = (\n",
    "    jq\n",
    "    .compile('.data | map({name: .id, value: .title}) | from_entries')\n",
    "    .input(response.json())\n",
    "    .all()[0]\n",
    ")\n",
    "pprint(dict(sorted(surveys.items())))"
   ]
  },
  {
   "cell_type": "code",
   "execution_count": null,
   "metadata": {},
   "outputs": [],
   "source": [
    "SURVEY_ID = None\n",
    "\n",
    "!python scripts/get_survey.py --endpoint details --output data/$SURVEY_ID/details.json $SURVEY_ID\n",
    "!python scripts/get_survey.py --endpoint responses --output data/$SURVEY_ID/responses.json $SURVEY_ID"
   ]
  },
  {
   "cell_type": "code",
   "execution_count": null,
   "metadata": {},
   "outputs": [],
   "source": [
    "!tree data"
   ]
  },
  {
   "cell_type": "code",
   "execution_count": null,
   "metadata": {},
   "outputs": [],
   "source": [
    "from spark_surveymonkey import _transform\n",
    "\n",
    "spark = SparkSession.builder.appName('test').getOrCreate()\n",
    "\n",
    "df_flatten = _transform.flatten(spark, f'data/{SURVEY_ID}/responses.json')\n",
    "df_interpret = _transform.interpret(df_flatten, f'data/{SURVEY_ID}/details.json')\n",
    "df_pivot = _transform.pivot(df_interpret)\n"
   ]
  },
  {
   "cell_type": "code",
   "execution_count": null,
   "metadata": {
    "scrolled": false
   },
   "outputs": [],
   "source": [
    "(\n",
    "    _transform.interpret(df_flatten, f'data/{SURVEY_ID}/details.json')\n",
    "    .sort(\n",
    "        'response_id',\n",
    "        'page_idx',\n",
    "        'question_idx',\n",
    "        F.coalesce('choice_id', 'row_id', 'other_id')\n",
    "    )\n",
    "    .withColumn('heading', F.col('heading').substr(1, 50))\n",
    "    .withColumn('row', F.col('row').substr(1, 50))\n",
    "    .select(\n",
    "        'response_id',\n",
    "        'response_status',\n",
    "        'page_idx',\n",
    "        'question_idx',\n",
    "        'question_id',\n",
    "        'family',\n",
    "        'heading',\n",
    "        'row',\n",
    "        'column',\n",
    "        'value',\n",
    "    )\n",
    "    # .filter(F.col('value').isNull())  # should return 0 rows\n",
    "    .show(100, False)\n",
    ")\n"
   ]
  },
  {
   "cell_type": "code",
   "execution_count": null,
   "metadata": {
    "scrolled": false
   },
   "outputs": [],
   "source": [
    "(\n",
    "    _transform.pivot(df_interpret)\n",
    "    .sort('response_id')\n",
    "    .show(100, False)\n",
    ")\n",
    "pprint(df_pivot.columns)"
   ]
  },
  {
   "cell_type": "code",
   "execution_count": null,
   "metadata": {},
   "outputs": [],
   "source": []
  }
 ],
 "metadata": {
  "kernelspec": {
   "display_name": "Python 3",
   "language": "python",
   "name": "python3"
  },
  "language_info": {
   "codemirror_mode": {
    "name": "ipython",
    "version": 3
   },
   "file_extension": ".py",
   "mimetype": "text/x-python",
   "name": "python",
   "nbconvert_exporter": "python",
   "pygments_lexer": "ipython3",
   "version": "3.6.10"
  }
 },
 "nbformat": 4,
 "nbformat_minor": 4
}
