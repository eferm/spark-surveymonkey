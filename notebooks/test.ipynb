{
 "cells": [
  {
   "cell_type": "code",
   "execution_count": 1,
   "metadata": {},
   "outputs": [],
   "source": [
    "%load_ext autoreload\n",
    "%autoreload 2"
   ]
  },
  {
   "cell_type": "code",
   "execution_count": 2,
   "metadata": {},
   "outputs": [
    {
     "data": {
      "text/html": [
       "<style>pre { white-space: pre !important; }</style>"
      ],
      "text/plain": [
       "<IPython.core.display.HTML object>"
      ]
     },
     "metadata": {},
     "output_type": "display_data"
    }
   ],
   "source": [
    "import re\n",
    "import glob\n",
    "import json\n",
    "from pprint import pprint\n",
    "from collections import ChainMap\n",
    "\n",
    "import jq\n",
    "import requests\n",
    "from pyspark.sql import SparkSession, functions as F\n",
    "from IPython.display import HTML\n",
    "\n",
    "spark = SparkSession.builder.appName('test').getOrCreate()\n",
    "display(HTML(\"<style>pre { white-space: pre !important; }</style>\"))"
   ]
  },
  {
   "cell_type": "code",
   "execution_count": 3,
   "metadata": {},
   "outputs": [],
   "source": [
    "SURVEY_ID = 284955270  # Test Survey"
   ]
  },
  {
   "cell_type": "markdown",
   "metadata": {},
   "source": [
    "## Survey Overview\n",
    "This section assumes you have a SurveyMonkey Access Token (`ACCESS_TOKEN` in `.env`)\n",
    "\n",
    "To run notebook on Test Survey skip this section."
   ]
  },
  {
   "cell_type": "code",
   "execution_count": 4,
   "metadata": {
    "scrolled": false
   },
   "outputs": [
    {
     "name": "stdout",
     "output_type": "stream",
     "text": [
      "{'284955270': 'Test Survey'}\n"
     ]
    }
   ],
   "source": [
    "import os\n",
    "import dotenv\n",
    "\n",
    "dotenv.load_dotenv()\n",
    "TOKEN = os.getenv(\"ACCESS_TOKEN\")\n",
    "\n",
    "headers = {\n",
    "    'Authorization': f'Bearer {TOKEN}',\n",
    "    'Content-Type': 'application/json'\n",
    "}\n",
    "response = requests.get(\n",
    "    'https://api.surveymonkey.com/v3/surveys',\n",
    "    headers=headers)\n",
    "response.raise_for_status()\n",
    "\n",
    "surveys = (\n",
    "    jq\n",
    "    .compile('.data | map({name: .id, value: .title}) | from_entries')\n",
    "    .input(response.json())\n",
    "    .all()\n",
    ")\n",
    "surveys = dict(ChainMap(*surveys))  # merge list of dicts\n",
    "pprint(surveys)"
   ]
  },
  {
   "cell_type": "markdown",
   "metadata": {},
   "source": [
    "### Download Survey"
   ]
  },
  {
   "cell_type": "code",
   "execution_count": 5,
   "metadata": {},
   "outputs": [],
   "source": [
    "SURVEY_ID = 284955270\n",
    "\n",
    "cached = [int(re.sub(r'[^\\d]', '', x)) for x in glob.glob('data/*/')]\n",
    "if SURVEY_ID not in cached:\n",
    "    print(f\"downloading survey {SURVEY_ID}\")\n",
    "    !python ../scripts/get_survey.py -e details -o data/$SURVEY_ID/details.json -t $TOKEN $SURVEY_ID\n",
    "    !python ../scripts/get_survey.py -e responses -o data/$SURVEY_ID/responses -t $TOKEN $SURVEY_ID\n",
    "    "
   ]
  },
  {
   "cell_type": "code",
   "execution_count": 6,
   "metadata": {},
   "outputs": [
    {
     "name": "stdout",
     "output_type": "stream",
     "text": [
      "\u001b[01;34mdata\u001b[00m\r\n",
      "└── \u001b[01;34m284955270\u001b[00m\r\n",
      "    ├── details.json\r\n",
      "    ├── \u001b[01;34mresponses\u001b[00m\r\n",
      "    │   ├── responses-00000.json\r\n",
      "    │   ├── responses-00001.json\r\n",
      "    │   ├── responses-00002.json\r\n",
      "    │   └── responses-00003.json\r\n",
      "    ├── \u001b[01;35mtest-survey-1.jpg\u001b[00m\r\n",
      "    ├── \u001b[01;35mtest-survey-2.jpg\u001b[00m\r\n",
      "    └── test-survey.pdf\r\n",
      "\r\n",
      "2 directories, 8 files\r\n"
     ]
    }
   ],
   "source": [
    "!tree data"
   ]
  },
  {
   "cell_type": "markdown",
   "metadata": {},
   "source": [
    "## Preview Questions/Answers"
   ]
  },
  {
   "cell_type": "code",
   "execution_count": 7,
   "metadata": {
    "scrolled": false
   },
   "outputs": [
    {
     "name": "stdout",
     "output_type": "stream",
     "text": [
      "all questions\n",
      "{'476164746': 'We’d like to know how much you enjoy living in your current '\n",
      "              'neighborhood. Thanks for sharing!',\n",
      " '476164747': 'Multiple Choice - Radio - Other Answer Choice',\n",
      " '476164748': 'Comment Box',\n",
      " '476164751': 'Multiple Choice - Radio',\n",
      " '476164752': 'Multiple Choice - Radio - Other Comment Box',\n",
      " '476164753': 'Multiple Choice - Checkboxes - Other Answer Choice',\n",
      " '476164754': 'Multiple Choice - Checkboxes',\n",
      " '476164755': 'Matrix Scale - Multiple Responses',\n",
      " '476190673': 'Contact Information',\n",
      " '476191619': 'Matrix Scale - Multiple Responses - Other'}\n",
      "\n",
      "inspect question 476164751\n",
      "[{'choices': [{'id': '3144764847',\n",
      "               'position': 1,\n",
      "               'quiz_options': {'score': 0},\n",
      "               'text': 'A great deal',\n",
      "               'visible': True},\n",
      "              {'id': '3144764848',\n",
      "               'position': 2,\n",
      "               'quiz_options': {'score': 0},\n",
      "               'text': 'A lot',\n",
      "               'visible': True},\n",
      "              {'id': '3144764849',\n",
      "               'position': 3,\n",
      "               'quiz_options': {'score': 0},\n",
      "               'text': 'A moderate amount',\n",
      "               'visible': True},\n",
      "              {'id': '3144764850',\n",
      "               'position': 4,\n",
      "               'quiz_options': {'score': 0},\n",
      "               'text': 'A little\\t',\n",
      "               'visible': True},\n",
      "              {'id': '3144764851',\n",
      "               'position': 5,\n",
      "               'quiz_options': {'score': 0},\n",
      "               'text': 'Not at all',\n",
      "               'visible': True}]}]\n"
     ]
    }
   ],
   "source": [
    "with open(f'data/{SURVEY_ID}/details.json') as f:\n",
    "    details = json.load(f)\n",
    "\n",
    "questions = (\n",
    "    jq\n",
    "    .compile('.pages[].questions '\n",
    "             '| map({name: .id, value: .headings[0].heading}) '\n",
    "             '| from_entries')\n",
    "    .input(details)\n",
    "    .all()\n",
    ")\n",
    "questions = dict(ChainMap(*questions))  # merge list of dicts\n",
    "questions = {k: re.sub(r'<[^>]*>', '', v) for k, v in questions.items()}\n",
    "print(\"all questions\")\n",
    "pprint(questions)\n",
    "\n",
    "# inspect question\n",
    "question = 476164751\n",
    "answers = (\n",
    "    jq\n",
    "    .compile('.pages[].questions[] '\n",
    "             '| select(.id '\n",
    "             f'| contains(\"{question}\")) '\n",
    "             '| .answers')\n",
    "    .input(details)\n",
    "    .all()\n",
    ")\n",
    "print(f'\\ninspect question {question}')\n",
    "pprint(answers)"
   ]
  },
  {
   "cell_type": "markdown",
   "metadata": {},
   "source": [
    "## Transform to `DataFrame`"
   ]
  },
  {
   "cell_type": "code",
   "execution_count": 8,
   "metadata": {},
   "outputs": [],
   "source": [
    "from spark_surveymonkey import _transform\n",
    "\n",
    "df_flatten = _transform.flatten(spark, f'data/{SURVEY_ID}/responses')\n",
    "df_interpret = _transform.interpret(df_flatten, f'data/{SURVEY_ID}/details.json')\n",
    "df_pivot = _transform.pivot(df_interpret)"
   ]
  },
  {
   "cell_type": "code",
   "execution_count": 9,
   "metadata": {
    "scrolled": false
   },
   "outputs": [
    {
     "name": "stdout",
     "output_type": "stream",
     "text": [
      "+-----------+---------------+--------+------------+-----------+---------------+--------------------------------------------------+---------+---------------------------------------------------------+----------------------------+\n",
      "|response_id|response_status|page_idx|question_idx|question_id|family         |heading                                           |row      |column                                                   |value                       |\n",
      "+-----------+---------------+--------+------------+-----------+---------------+--------------------------------------------------+---------+---------------------------------------------------------+----------------------------+\n",
      "|11670854001|completed      |00001   |00002       |476164751  |single_choice  |Multiple Choice - Radio                           |null     |multiple_choice_radio                                    |A lot                       |\n",
      "|11670854001|completed      |00001   |00003       |476164754  |multiple_choice|Multiple Choice - Checkboxes                      |null     |multiple_choice_checkboxes_paper_bulletins               |Paper bulletins             |\n",
      "|11670854001|completed      |00001   |00003       |476164754  |multiple_choice|Multiple Choice - Checkboxes                      |null     |multiple_choice_checkboxes_email_list                    |Email list                  |\n",
      "|11670854001|completed      |00001   |00004       |476164747  |single_choice  |Multiple Choice - Radio - Other Answer Choice     |null     |multiple_choice_radio_other_answer_choice_other          |Answer Choice for Question 3|\n",
      "|11670854001|completed      |00001   |00005       |476164752  |single_choice  |Multiple Choice - Radio - Other Comment Box       |null     |multiple_choice_radio_other_comment_box                  |Not at all strong           |\n",
      "|11670854001|completed      |00001   |00005       |476164752  |single_choice  |Multiple Choice - Radio - Other Comment Box       |null     |multiple_choice_radio_other_comment_box_other            |Comment for Question 4      |\n",
      "|11670854001|completed      |00001   |00006       |476164753  |multiple_choice|Multiple Choice - Checkboxes - Other Answer Choice|null     |multiple_choice_checkboxes_other_answer_choice_very_clean|Very clean                  |\n",
      "|11670854001|completed      |00001   |00006       |476164753  |multiple_choice|Multiple Choice - Checkboxes - Other Answer Choice|null     |multiple_choice_checkboxes_other_answer_choice_other     |Answer Choice for Question 5|\n",
      "|11670854001|completed      |00001   |00007       |476164755  |matrix         |Matrix Scale - Multiple Responses                 |Option A |matrix_scale_multiple_responses_option_a                 |Yes                         |\n",
      "|11670854001|completed      |00001   |00007       |476164755  |matrix         |Matrix Scale - Multiple Responses                 |Option C |matrix_scale_multiple_responses_option_c                 |Yes                         |\n",
      "|11670854001|completed      |00001   |00007       |476164755  |matrix         |Matrix Scale - Multiple Responses                 |Option C |matrix_scale_multiple_responses_option_c                 |No                          |\n",
      "|11670854001|completed      |00001   |00007       |476164755  |matrix         |Matrix Scale - Multiple Responses                 |Option B |matrix_scale_multiple_responses_option_b                 |No                          |\n",
      "|11670854001|completed      |00001   |00008       |476191619  |matrix         |Matrix Scale - Multiple Responses - Other         |Option A |matrix_scale_multiple_responses_other_option_a           |Yes                         |\n",
      "|11670854001|completed      |00001   |00008       |476191619  |matrix         |Matrix Scale - Multiple Responses - Other         |Option C |matrix_scale_multiple_responses_other_option_c           |Yes                         |\n",
      "|11670854001|completed      |00001   |00008       |476191619  |matrix         |Matrix Scale - Multiple Responses - Other         |Option B |matrix_scale_multiple_responses_other_option_b           |No                          |\n",
      "|11670854001|completed      |00001   |00008       |476191619  |matrix         |Matrix Scale - Multiple Responses - Other         |Option C |matrix_scale_multiple_responses_other_option_c           |No                          |\n",
      "|11670854001|completed      |00001   |00008       |476191619  |matrix         |Matrix Scale - Multiple Responses - Other         |null     |matrix_scale_multiple_responses_other_other              |Other for Question 7        |\n",
      "|11670854001|completed      |00001   |00009       |476164748  |open_ended     |Comment Box                                       |null     |comment_box                                              |Comment Text for Question 8 |\n",
      "|11670854001|completed      |00001   |00010       |476190673  |demographic    |Contact Information                               |Name     |contact_information_name                                 |John Smith                  |\n",
      "|11670854001|completed      |00001   |00010       |476190673  |demographic    |Contact Information                               |City/Town|contact_information_city_town                            |San Francisco               |\n",
      "+-----------+---------------+--------+------------+-----------+---------------+--------------------------------------------------+---------+---------------------------------------------------------+----------------------------+\n",
      "only showing top 20 rows\n",
      "\n"
     ]
    }
   ],
   "source": [
    "(\n",
    "    _transform.interpret(df_flatten, f'data/{SURVEY_ID}/details.json')\n",
    "    .sort(\n",
    "        'response_id',\n",
    "        'page_idx',\n",
    "        'question_idx',\n",
    "        F.coalesce('choice_id', 'row_id', 'other_id')\n",
    "    )\n",
    "    .withColumn('heading', F.col('heading').substr(1, 50))\n",
    "    .withColumn('row', F.col('row'))#.substr(1, 50))\n",
    "    .select(\n",
    "        'response_id',\n",
    "        'response_status',\n",
    "        'page_idx',\n",
    "        'question_idx',\n",
    "        'question_id',\n",
    "        'family',\n",
    "        'heading',\n",
    "        'row',\n",
    "        'column',\n",
    "        'value',\n",
    "    )\n",
    "#     .filter(F.col('value').isNull())  # should return 0 rows\n",
    "    .show(20, False)\n",
    ")\n"
   ]
  },
  {
   "cell_type": "code",
   "execution_count": 10,
   "metadata": {
    "scrolled": false
   },
   "outputs": [
    {
     "name": "stdout",
     "output_type": "stream",
     "text": [
      "+-----------+------------+---------------+---------------+------------+----------+---------+-------------+--------------+--------+---------+------------+---------+-------------------------------------------------------------------------------------------------------------+--------------------------------------------------------------------------------------------------------------------+----------+-------------------+-------------------+-----------------------------------------------------------------------+---------------------+------------------------------------------+-------------------------------------+-----------------------------------+-------------------------------------+-----------------------------------------+-----------------------------------------------+---------------------------------------+---------------------------------------------+---------------------------------------------------------+-------------------------------------------------------------+-----------------------------------------------------------+----------------------------------------------------+----------------------------------------+----------------------------------------+----------------------------------------+----------------------------------------+----------------------------------------+----------------------------------------------+----------------------------------------------+----------------------------------------------+----------------------------------------------+----------------------------------------------+----------------------------------------------+-------------------------------------------+---------------------------+------------------------+---------------------------+---------------------------+-----------------------------+-----------------------------------+---------------------------+---------------------------------+--------------------------------+\n",
      "|response_id|recipient_id|collection_mode|response_status|custom_value|first_name|last_name|email_address|ip_address    |metadata|page_path|collector_id|survey_id|edit_url                                                                                                     |analyze_url                                                                                                         |total_time|date_modified      |date_created       |href                                                                   |multiple_choice_radio|multiple_choice_checkboxes_paper_bulletins|multiple_choice_checkboxes_email_list|multiple_choice_checkboxes_nextdoor|multiple_choice_checkboxes_group_chat|multiple_choice_radio_other_answer_choice|multiple_choice_radio_other_answer_choice_other|multiple_choice_radio_other_comment_box|multiple_choice_radio_other_comment_box_other|multiple_choice_checkboxes_other_answer_choice_very_clean|multiple_choice_checkboxes_other_answer_choice_somewhat_clean|multiple_choice_checkboxes_other_answer_choice_not_so_clean|multiple_choice_checkboxes_other_answer_choice_other|matrix_scale_multiple_responses_option_a|matrix_scale_multiple_responses_option_b|matrix_scale_multiple_responses_option_c|matrix_scale_multiple_responses_option_b|matrix_scale_multiple_responses_option_c|matrix_scale_multiple_responses_other_option_a|matrix_scale_multiple_responses_other_option_b|matrix_scale_multiple_responses_other_option_c|matrix_scale_multiple_responses_other_option_a|matrix_scale_multiple_responses_other_option_b|matrix_scale_multiple_responses_other_option_c|matrix_scale_multiple_responses_other_other|comment_box                |contact_information_name|contact_information_company|contact_information_address|contact_information_city_town|contact_information_zip_postal_code|contact_information_country|contact_information_email_address|contact_information_phone_number|\n",
      "+-----------+------------+---------------+---------------+------------+----------+---------+-------------+--------------+--------+---------+------------+---------+-------------------------------------------------------------------------------------------------------------+--------------------------------------------------------------------------------------------------------------------+----------+-------------------+-------------------+-----------------------------------------------------------------------+---------------------+------------------------------------------+-------------------------------------+-----------------------------------+-------------------------------------+-----------------------------------------+-----------------------------------------------+---------------------------------------+---------------------------------------------+---------------------------------------------------------+-------------------------------------------------------------+-----------------------------------------------------------+----------------------------------------------------+----------------------------------------+----------------------------------------+----------------------------------------+----------------------------------------+----------------------------------------+----------------------------------------------+----------------------------------------------+----------------------------------------------+----------------------------------------------+----------------------------------------------+----------------------------------------------+-------------------------------------------+---------------------------+------------------------+---------------------------+---------------------------+-----------------------------+-----------------------------------+---------------------------+---------------------------------+--------------------------------+\n",
      "|11670854001|null        |default        |completed      |null        |null      |null     |null         |104.177.38.142|null    |[]       |260965847   |284955270|https://www.surveymonkey.com/r/?sm=u3wX7UI5jEWT_2Fhlbv8G0TrJWJ_2BP_2BG1duQor_2B1bUvY6gnTvDAO0jxLOExj2Vl_2FxvE|https://www.surveymonkey.com/analyze/browse/Lon9JmlFro97hEFffzmzDifiLDhBDIB6zhriupLMYpw_3D?respondent_id=11670854001|223       |2020-06-05 12:30:07|2020-06-05 12:26:24|https://api.surveymonkey.com/v3/surveys/284955270/responses/11670854001|A lot                |Paper bulletins                           |Email list                           |null                               |null                                 |Other (please specify)                   |Answer Choice for Question 3                   |Not at all strong                      |Comment for Question 4                       |Very clean                                               |null                                                         |null                                                       |Answer Choice for Question 5                        |Yes                                     |null                                    |Yes                                     |No                                      |No                                      |Yes                                           |null                                          |Yes                                           |null                                          |No                                            |No                                            |Other for Question 7                       |Comment Text for Question 8|John Smith              |null                       |null                       |San Francisco                |null                               |null                       |john@smith.com                   |(555) 123-4567                  |\n",
      "|11670865337|null        |default        |completed      |null        |null      |null     |null         |104.177.38.142|null    |[]       |260965847   |284955270|https://www.surveymonkey.com/r/?sm=YjlkvifOhBjzAmiYEi4WP2m6X7mIY8qXJONPHSa6hzNSycfzmzY7u14ZXwN4znL6          |https://www.surveymonkey.com/analyze/browse/Lon9JmlFro97hEFffzmzDifiLDhBDIB6zhriupLMYpw_3D?respondent_id=11670865337|185       |2020-06-05 12:33:49|2020-06-05 12:30:44|https://api.surveymonkey.net/v3/surveys/284955270/responses/11670865337|A moderate amount    |null                                      |null                                 |Nextdoor                           |Group chat                           |Somewhat well                            |null                                           |Somewhat strong                        |null                                         |null                                                     |Somewhat clean                                               |Not so clean                                               |null                                                |Yes                                     |null                                    |null                                    |null                                    |null                                    |Yes                                           |null                                          |null                                          |null                                          |null                                          |null                                          |null                                       |null                       |Jane                    |Doe                        |null                       |null                         |null                               |null                       |jane@doe.org                     |5559871234                      |\n",
      "|11670870996|null        |default        |completed      |null        |null      |null     |null         |104.177.38.142|null    |[]       |260965847   |284955270|https://www.surveymonkey.com/r/?sm=PHFh_2Fv2OpjBMW8Qk6RGLtEGYcIyacr2u4SH5CsgA4vtabe6XgUxsIJ1rc0OBNnbd        |https://www.surveymonkey.com/analyze/browse/Lon9JmlFro97hEFffzmzDifiLDhBDIB6zhriupLMYpw_3D?respondent_id=11670870996|109       |2020-06-05 12:35:43|2020-06-05 12:33:54|https://api.surveymonkey.net/v3/surveys/284955270/responses/11670870996|A lot                |Paper bulletins                           |null                                 |Nextdoor                           |null                                 |Very well                                |null                                           |Very strong                            |lorem ipsum 4                                |Very clean                                               |null                                                         |null                                                       |lorem ipsum 5                                       |Yes                                     |Yes                                     |Yes                                     |null                                    |null                                    |null                                          |null                                          |null                                          |No                                            |No                                            |No                                            |null                                       |lorem ipsum 8              |Foo                     |Bar                        |null                       |null                         |null                               |null                       |foo@bar.com                      |555-456-7890                    |\n",
      "|11673116439|null        |default        |completed      |null        |null      |null     |null         |74.72.155.144 |null    |[]       |261600146   |284955270|https://www.surveymonkey.com/r/?sm=qQfC7SEsReTEUT8DEhtdp8OOWueqoXOinjup1V4U12EtQdBT8f1XTKTwPa04wA6s          |https://www.surveymonkey.com/analyze/browse/Lon9JmlFro97hEFffzmzDifiLDhBDIB6zhriupLMYpw_3D?respondent_id=11673116439|257       |2020-06-06 14:46:47|2020-06-06 14:42:30|https://api.surveymonkey.net/v3/surveys/284955270/responses/11673116439|A lot                |Paper bulletins                           |null                                 |null                               |null                                 |Extremely well                           |null                                           |Extremely strong                       |null                                         |Very clean                                               |null                                                         |null                                                       |null                                                |Yes                                     |null                                    |null                                    |No                                      |No                                      |null                                          |Yes                                           |null                                          |No                                            |null                                          |No                                            |null                                       |null                       |Roger                   |Ameel                      |Promenade Drive            |Willmington                  |789012                             |New Zealand                |roger.am2l@notarealhost.com      |123456789                       |\n",
      "+-----------+------------+---------------+---------------+------------+----------+---------+-------------+--------------+--------+---------+------------+---------+-------------------------------------------------------------------------------------------------------------+--------------------------------------------------------------------------------------------------------------------+----------+-------------------+-------------------+-----------------------------------------------------------------------+---------------------+------------------------------------------+-------------------------------------+-----------------------------------+-------------------------------------+-----------------------------------------+-----------------------------------------------+---------------------------------------+---------------------------------------------+---------------------------------------------------------+-------------------------------------------------------------+-----------------------------------------------------------+----------------------------------------------------+----------------------------------------+----------------------------------------+----------------------------------------+----------------------------------------+----------------------------------------+----------------------------------------------+----------------------------------------------+----------------------------------------------+----------------------------------------------+----------------------------------------------+----------------------------------------------+-------------------------------------------+---------------------------+------------------------+---------------------------+---------------------------+-----------------------------+-----------------------------------+---------------------------+---------------------------------+--------------------------------+\n",
      "\n",
      "['response_id',\n",
      " 'recipient_id',\n",
      " 'collection_mode',\n",
      " 'response_status',\n",
      " 'custom_value',\n",
      " 'first_name',\n",
      " 'last_name',\n",
      " 'email_address',\n",
      " 'ip_address',\n",
      " 'metadata',\n",
      " 'page_path',\n",
      " 'collector_id',\n",
      " 'survey_id',\n",
      " 'edit_url',\n",
      " 'analyze_url',\n",
      " 'total_time',\n",
      " 'date_modified',\n",
      " 'date_created',\n",
      " 'href',\n",
      " 'multiple_choice_radio',\n",
      " 'multiple_choice_checkboxes_paper_bulletins',\n",
      " 'multiple_choice_checkboxes_email_list',\n",
      " 'multiple_choice_checkboxes_nextdoor',\n",
      " 'multiple_choice_checkboxes_group_chat',\n",
      " 'multiple_choice_radio_other_answer_choice',\n",
      " 'multiple_choice_radio_other_answer_choice_other',\n",
      " 'multiple_choice_radio_other_comment_box',\n",
      " 'multiple_choice_radio_other_comment_box_other',\n",
      " 'multiple_choice_checkboxes_other_answer_choice_very_clean',\n",
      " 'multiple_choice_checkboxes_other_answer_choice_somewhat_clean',\n",
      " 'multiple_choice_checkboxes_other_answer_choice_not_so_clean',\n",
      " 'multiple_choice_checkboxes_other_answer_choice_other',\n",
      " 'matrix_scale_multiple_responses_option_a',\n",
      " 'matrix_scale_multiple_responses_option_b',\n",
      " 'matrix_scale_multiple_responses_option_c',\n",
      " 'matrix_scale_multiple_responses_option_b',\n",
      " 'matrix_scale_multiple_responses_option_c',\n",
      " 'matrix_scale_multiple_responses_other_option_a',\n",
      " 'matrix_scale_multiple_responses_other_option_b',\n",
      " 'matrix_scale_multiple_responses_other_option_c',\n",
      " 'matrix_scale_multiple_responses_other_option_a',\n",
      " 'matrix_scale_multiple_responses_other_option_b',\n",
      " 'matrix_scale_multiple_responses_other_option_c',\n",
      " 'matrix_scale_multiple_responses_other_other',\n",
      " 'comment_box',\n",
      " 'contact_information_name',\n",
      " 'contact_information_company',\n",
      " 'contact_information_address',\n",
      " 'contact_information_city_town',\n",
      " 'contact_information_zip_postal_code',\n",
      " 'contact_information_country',\n",
      " 'contact_information_email_address',\n",
      " 'contact_information_phone_number']\n"
     ]
    }
   ],
   "source": [
    "(\n",
    "    _transform.pivot(df_interpret)\n",
    "    .sort('response_id')\n",
    "    .show(20, False)\n",
    ")\n",
    "pprint(df_pivot.columns)"
   ]
  },
  {
   "cell_type": "code",
   "execution_count": null,
   "metadata": {},
   "outputs": [],
   "source": []
  }
 ],
 "metadata": {
  "kernelspec": {
   "display_name": "Python 3",
   "language": "python",
   "name": "python3"
  },
  "language_info": {
   "codemirror_mode": {
    "name": "ipython",
    "version": 3
   },
   "file_extension": ".py",
   "mimetype": "text/x-python",
   "name": "python",
   "nbconvert_exporter": "python",
   "pygments_lexer": "ipython3",
   "version": "3.6.10"
  }
 },
 "nbformat": 4,
 "nbformat_minor": 4
}
